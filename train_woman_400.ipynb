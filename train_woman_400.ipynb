version https://git-lfs.github.com/spec/v1
oid sha256:df385d0ab1c326d057c4ed6fd71b1f36e8bf46e9dc1a3e2426d957e3e27b67e8
size 3198789
