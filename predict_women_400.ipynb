version https://git-lfs.github.com/spec/v1
oid sha256:d29e3d1d61d2a0cd1221d138a023b64a15bfc9f6af5e53cc92d7eea57f35db9d
size 64518010
