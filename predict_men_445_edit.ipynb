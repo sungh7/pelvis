version https://git-lfs.github.com/spec/v1
oid sha256:10f41d47ce2ea849c8de39b0560183b6ff3c10eef19498f165cde4cbc3acfd5b
size 84672512
